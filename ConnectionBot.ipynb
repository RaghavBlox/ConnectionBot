{
 "cells": [
  {
   "attachments": {},
   "cell_type": "markdown",
   "metadata": {},
   "source": [
    "## Linkedin Message Bot"
   ]
  },
  {
   "cell_type": "code",
   "execution_count": 22,
   "metadata": {},
   "outputs": [],
   "source": [
    "from selenium import webdriver\n",
    "from selenium.webdriver.common.keys import Keys\n",
    "from selenium.webdriver.chrome.service import Service\n",
    "from selenium.webdriver.common.by import By\n",
    "from selenium.webdriver.support.wait import WebDriverWait\n",
    "import time"
   ]
  },
  {
   "attachments": {},
   "cell_type": "markdown",
   "metadata": {},
   "source": [
    "<b>Initiallize Webdriver and Open Linkedin with it</b>"
   ]
  },
  {
   "cell_type": "code",
   "execution_count": 23,
   "metadata": {},
   "outputs": [],
   "source": [
    "options = webdriver.ChromeOptions()\n",
    "driver = webdriver.Chrome(options=options)\n",
    "driver.get('https://www.linkedin.com')\n",
    "time.sleep(2)"
   ]
  },
  {
   "attachments": {},
   "cell_type": "markdown",
   "metadata": {},
   "source": [
    "<b>Log Into Your Own Linkedin Account</b>\n",
    "<br>\n",
    "Please replace \"my_username\" and \"my_password\" with your own information"
   ]
  },
  {
   "cell_type": "code",
   "execution_count": 24,
   "metadata": {},
   "outputs": [
    {
     "name": "stdout",
     "output_type": "stream",
     "text": [
      "logged in\n"
     ]
    }
   ],
   "source": [
    "username = driver.find_element(By.XPATH, \"//input[@name='session_key']\")\n",
    "password = driver.find_element(By.XPATH, \"//input[@name='session_password']\")\n",
    "\n",
    "\n",
    "username.send_keys('raghavswami345@gmail.com')\n",
    "password.send_keys('thunderboltRG')\n",
    "time.sleep(2)\n",
    "\n",
    "submit = driver.find_element(By.XPATH, \"//button[@type='submit']\").click()\n",
    "print('logged in')"
   ]
  },
  {
   "attachments": {},
   "cell_type": "markdown",
   "metadata": {},
   "source": [
    "<b>This will send only Request</b>"
   ]
  },
  {
   "cell_type": "code",
   "execution_count": null,
   "metadata": {},
   "outputs": [],
   "source": [
    "# Navigate to the LinkedIn page\n",
    "from selenium.webdriver.support import expected_conditions as EC\n",
    "from selenium.webdriver.common.by import By\n",
    "\n",
    "# Navigate to the LinkedIn page\n",
    "driver.get(\"https://www.linkedin.com/search/results/people/?currentCompany=%5B%2278043528%22%5D&origin=FACETED_SEARCH&page=8\")\n",
    "\n",
    "wait = WebDriverWait(driver, 10)\n",
    "connect_buttons = wait.until(EC.presence_of_all_elements_located((By.XPATH, \"//button[contains(@class,'artdeco-button--secondary')]/span[text()='Connect']\")))\n",
    "\n",
    "for btn in connect_buttons:\n",
    "    try:\n",
    "        btn.click()\n",
    "        print('Connect button clicked')\n",
    "        time.sleep(2)\n",
    "        \n",
    "        # Perform additional actions (e.g., sending a connection request)\n",
    "        send = driver.find_element(By.XPATH, \"//button[@aria-label='Send now']\")\n",
    "        driver.execute_script(\"arguments[0].click();\", send)\n",
    "        print('Next click')\n",
    "        time.sleep(2)\n",
    "        \n",
    "        close = driver.find_element(By.XPATH, \"//button[@aria-label='Dismiss']\")\n",
    "        driver.execute_script(\"arguments[0].click();\", close)\n",
    "        print('Next click')\n",
    "        time.sleep(2)\n",
    "    except Exception as e:\n",
    "        print(f\"Error clicking button: {str(e)}\")"
   ]
  },
  {
   "attachments": {},
   "cell_type": "markdown",
   "metadata": {},
   "source": [
    "<b>Send ConnectionRequest</b>\n",
    "1. Select all the \"Connection\" Buttons\n",
    "<br>\n",
    "1. Generate a custom message with a personal greeting & first name of contact\n",
    "<br>\n",
    "3. Send these messages to as many contacts as you'd like!"
   ]
  },
  {
   "cell_type": "code",
   "execution_count": null,
   "metadata": {},
   "outputs": [],
   "source": [
    "# Navigate to the LinkedIn page\n",
    "from selenium.webdriver.support import expected_conditions as EC\n",
    "from selenium.webdriver.common.by import By\n",
    "\n",
    "# Navigate to the LinkedIn page\n",
    "driver.get(\"https://www.linkedin.com/search/results/people/?geoUrn=%5B%22102713980%22%5D&origin=FACETED_SEARCH&serviceCategory=%5B%222461%22%2C%22220%22%2C%221836%22%2C%2250328%22%5D&page=2\")\n",
    "\n",
    "wait = WebDriverWait(driver, 10)\n",
    "connect_buttons = wait.until(EC.presence_of_all_elements_located((By.XPATH, \"//button[contains(@class,'artdeco-button--secondary')]/span[text()='Connect']\")))\n",
    "\n",
    "for btn in connect_buttons:\n",
    "    try:\n",
    "        btn.click()\n",
    "        print('Connect button clicked')\n",
    "        time.sleep(2)\n",
    "\n",
    "        # Locate the <strong> tag within the parent element\n",
    "        name_element = driver.find_element(By.XPATH, \"//strong\")\n",
    "        \n",
    "        # Extract the name from the <strong> tag\n",
    "        name = name_element.text if name_element.is_displayed() else \"LinkedIn User\"\n",
    "        print(name)\n",
    "\n",
    "        # Click \"Add a note\" button\n",
    "        addNote = driver.find_element(By.XPATH, \"//button[@aria-label='Add a note']\")\n",
    "        driver.execute_script(\"arguments[0].click();\", addNote)\n",
    "        print('Add a note button clicked')\n",
    "        time.sleep(2)\n",
    "\n",
    "        # Add a personalized message with the name\n",
    "        message_input = driver.find_element(By.XPATH, \"//textarea[@name='message']\")\n",
    "        message = f\"Hello {name}, This is raghav it would be great to connect with you. This is my linkedIn Connection Bot if you want to try it please contact me. https://encrypted-tbn0.gstatic.com/images\"\n",
    "        message_input.send_keys(message)\n",
    "        print(message)\n",
    "        time.sleep(2)\n",
    "        \n",
    "        #Perform additional actions (e.g., sending a connection request)\n",
    "        send = driver.find_element(By.XPATH, \"//button[@aria-label='Send now']\")\n",
    "        driver.execute_script(\"arguments[0].click();\", send)\n",
    "        print('Next click')\n",
    "        time.sleep(2)\n",
    "        \n",
    "        # close = driver.find_element(By.XPATH, \"//button[@aria-label='Dismiss']\")\n",
    "        # driver.execute_script(\"arguments[0].click();\", close)\n",
    "        # print('Next click')\n",
    "        time.sleep(2)\n",
    "    except Exception as e:\n",
    "        print(f\"Error clicking button: {str(e)}\")"
   ]
  },
  {
   "attachments": {},
   "cell_type": "markdown",
   "metadata": {},
   "source": [
    "<b>This will send Messages according to your filters</b>"
   ]
  },
  {
   "cell_type": "code",
   "execution_count": null,
   "metadata": {},
   "outputs": [],
   "source": [
    "# Navigate to the LinkedIn page\n",
    "from selenium.webdriver.support import expected_conditions as EC\n",
    "from selenium.webdriver.common.by import By\n",
    "\n",
    "# Navigate to the LinkedIn page\n",
    "driver.get(\"https://www.linkedin.com/search/results/people/?origin=FACETED_SEARCH&page=1\")\n",
    "\n",
    "wait = WebDriverWait(driver, 10)\n",
    "message_buttons = wait.until(EC.presence_of_all_elements_located((By.XPATH, \"//button[contains(@class,'artdeco-button--secondary')]/span[text()='Message']\")))\n",
    "\n",
    "for btn in message_buttons:\n",
    "    try:\n",
    "        btn.click()\n",
    "        print('Message button clicked')\n",
    "        time.sleep(2)\n",
    "\n",
    "        # activate main div\n",
    "        # Wait for the message input field to load\n",
    "        message_input = wait.until(EC.presence_of_element_located((By.XPATH, \"//div[@role='textbox' and @aria-multiline='true']\")))\n",
    "        message_input.click()\n",
    "\n",
    "        #type message\n",
    "        paragraphs = driver.find_elements(By.TAG_NAME,\"p\")\n",
    "        paragraphs[-5].send_keys('Sorry to interrupt, i am testing my bot https://encrypted-tbn0.gstatic.com/images?q=tbn:ANd9GcSsCJFkouSCimVzmN7QGW2QzJnCNbRgAPCDWg&usqp=CAU')\n",
    "\n",
    "        #send message\n",
    "        submit = driver.find_element(By.XPATH,\"//button[@type='submit']\").click()\n",
    "        time.sleep(2)\n",
    "        print('Next click')\n",
    "        time.sleep(2)\n",
    "\n",
    "\n",
    "    except Exception as e:\n",
    "        print(f\"Error clicking button: {str(e)}\")"
   ]
  }
 ],
 "metadata": {
  "kernelspec": {
   "display_name": "Python 3",
   "language": "python",
   "name": "python3"
  },
  "language_info": {
   "codemirror_mode": {
    "name": "ipython",
    "version": 3
   },
   "file_extension": ".py",
   "mimetype": "text/x-python",
   "name": "python",
   "nbconvert_exporter": "python",
   "pygments_lexer": "ipython3",
   "version": "3.8.10"
  },
  "orig_nbformat": 4
 },
 "nbformat": 4,
 "nbformat_minor": 2
}
