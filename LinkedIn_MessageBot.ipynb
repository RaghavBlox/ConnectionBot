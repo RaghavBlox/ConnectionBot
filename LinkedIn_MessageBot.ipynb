{
 "cells": [
  {
   "cell_type": "markdown",
   "metadata": {},
   "source": [
    "## Linkedin Message Bot"
   ]
  },
  {
   "cell_type": "code",
   "execution_count": 1,
   "metadata": {},
   "outputs": [],
   "source": [
    "from selenium import webdriver\n",
    "from selenium.webdriver.common.keys import Keys\n",
    "from selenium.webdriver.chrome.service import Service\n",
    "from selenium.webdriver.common.by import By\n",
    "from selenium.webdriver.support.wait import WebDriverWait\n",
    "import time"
   ]
  },
  {
   "cell_type": "markdown",
   "metadata": {},
   "source": [
    "<b>Initiallize Webdriver and Open Linkedin with it</b>"
   ]
  },
  {
   "cell_type": "code",
   "execution_count": 4,
   "metadata": {},
   "outputs": [
    {
     "ename": "KeyboardInterrupt",
     "evalue": "",
     "output_type": "error",
     "traceback": [
      "\u001b[0;31m---------------------------------------------------------------------------\u001b[0m",
      "\u001b[0;31mKeyboardInterrupt\u001b[0m                         Traceback (most recent call last)",
      "\u001b[0;32m/tmp/ipykernel_12036/1249183173.py\u001b[0m in \u001b[0;36m<module>\u001b[0;34m\u001b[0m\n\u001b[1;32m      2\u001b[0m \u001b[0mdriver\u001b[0m \u001b[0;34m=\u001b[0m \u001b[0mwebdriver\u001b[0m\u001b[0;34m.\u001b[0m\u001b[0mChrome\u001b[0m\u001b[0;34m(\u001b[0m\u001b[0moptions\u001b[0m\u001b[0;34m=\u001b[0m\u001b[0moptions\u001b[0m\u001b[0;34m)\u001b[0m\u001b[0;34m\u001b[0m\u001b[0;34m\u001b[0m\u001b[0m\n\u001b[1;32m      3\u001b[0m \u001b[0mdriver\u001b[0m\u001b[0;34m.\u001b[0m\u001b[0mget\u001b[0m\u001b[0;34m(\u001b[0m\u001b[0;34m'https://www.linkedin.com'\u001b[0m\u001b[0;34m)\u001b[0m\u001b[0;34m\u001b[0m\u001b[0;34m\u001b[0m\u001b[0m\n\u001b[0;32m----> 4\u001b[0;31m \u001b[0mtime\u001b[0m\u001b[0;34m.\u001b[0m\u001b[0msleep\u001b[0m\u001b[0;34m(\u001b[0m\u001b[0;36m2\u001b[0m\u001b[0;34m)\u001b[0m\u001b[0;34m\u001b[0m\u001b[0;34m\u001b[0m\u001b[0m\n\u001b[0m",
      "\u001b[0;31mKeyboardInterrupt\u001b[0m: "
     ]
    }
   ],
   "source": [
    "options = webdriver.ChromeOptions()\n",
    "driver = webdriver.Chrome(options=options)\n",
    "driver.get('https://www.linkedin.com')\n",
    "time.sleep(2)"
   ]
  },
  {
   "cell_type": "markdown",
   "metadata": {},
   "source": [
    "<b>Log Into Your Own Linkedin Account</b>\n",
    "<br>\n",
    "Please replace \"my_username\" and \"my_password\" with your own information"
   ]
  },
  {
   "cell_type": "code",
   "execution_count": null,
   "metadata": {},
   "outputs": [],
   "source": [
    "username = driver.find_element(By.XPATH, \"//input[@name='session_key']\")\n",
    "password = driver.find_element(By.XPATH, \"//input[@name='session_password']\")\n",
    "\n",
    "\n",
    "username.send_keys('my_username')\n",
    "password.send_keys('my_password')\n",
    "time.sleep(2)\n",
    "\n",
    "submit = driver.find_element(By.XPATH, \"//button[@type='submit']\").click()\n",
    "print('logged in')"
   ]
  },
  {
   "cell_type": "markdown",
   "metadata": {},
   "source": [
    "<b>Send This will send only Request</b>"
   ]
  },
  {
   "cell_type": "code",
   "execution_count": null,
   "metadata": {},
   "outputs": [],
   "source": [
    "# Navigate to the LinkedIn page\n",
    "from selenium.webdriver.support import expected_conditions as EC\n",
    "from selenium.webdriver.common.by import By\n",
    "\n",
    "# Navigate to the LinkedIn page\n",
    "driver.get(\"https://www.linkedin.com/search/results/people/?currentCompany=%5B%2278043528%22%5D&origin=FACETED_SEARCH&page=13\")\n",
    "\n",
    "wait = WebDriverWait(driver, 10)\n",
    "connect_buttons = wait.until(EC.presence_of_all_elements_located((By.XPATH, \"//button[contains(@class,'artdeco-button--secondary')]/span[text()='Connect']\")))\n",
    "\n",
    "for btn in connect_buttons:\n",
    "    try:\n",
    "        btn.click()\n",
    "        print('Connect button clicked')\n",
    "        time.sleep(2)\n",
    "        \n",
    "        # Perform additional actions (e.g., sending a connection request)\n",
    "        send = driver.find_element(By.XPATH, \"//button[@aria-label='Send now']\")\n",
    "        driver.execute_script(\"arguments[0].click();\", send)\n",
    "        print('Next click')\n",
    "        time.sleep(2)\n",
    "        \n",
    "        close = driver.find_element(By.XPATH, \"//button[@aria-label='Dismiss']\")\n",
    "        driver.execute_script(\"arguments[0].click();\", close)\n",
    "        print('Next click')\n",
    "        time.sleep(2)\n",
    "    except Exception as e:\n",
    "        print(f\"Error clicking button: {str(e)}\")"
   ]
  },
  {
   "cell_type": "markdown",
   "metadata": {},
   "source": [
    "<b>Send ConnectionRequest</b>\n",
    "1. Select all the \"Connection\" Buttons\n",
    "<br>\n",
    "1. Generate a custom message with a personal greeting & first name of contact\n",
    "<br>\n",
    "3. Send these messages to as many contacts as you'd like!"
   ]
  },
  {
   "cell_type": "code",
   "execution_count": null,
   "metadata": {},
   "outputs": [],
   "source": [
    "# Navigate to the LinkedIn page\n",
    "from selenium.webdriver.support import expected_conditions as EC\n",
    "from selenium.webdriver.common.by import By\n",
    "\n",
    "# Navigate to the LinkedIn page\n",
    "driver.get(\"https://www.linkedin.com/search/results/people/?currentCompany=%5B%2278043528%22%5D&origin=FACETED_SEARCH&page=2\")\n",
    "\n",
    "wait = WebDriverWait(driver, 10)\n",
    "connect_buttons = wait.until(EC.presence_of_all_elements_located((By.XPATH, \"//button[contains(@class,'artdeco-button--secondary')]/span[text()='Connect']\")))\n",
    "\n",
    "for btn in connect_buttons:\n",
    "    try:\n",
    "        btn.click()\n",
    "        print('Connect button clicked')\n",
    "        time.sleep(2)\n",
    "\n",
    "        # Locate the <strong> tag within the parent element\n",
    "        name_element = driver.find_element(By.XPATH, \"//strong\")\n",
    "        \n",
    "        # Extract the name from the <strong> tag\n",
    "        name = name_element.text if name_element.is_displayed() else \"LinkedIn User\"\n",
    "        print(name)\n",
    "\n",
    "        # Click \"Add a note\" button\n",
    "        addNote = driver.find_element(By.XPATH, \"//button[@aria-label='Add a note']\")\n",
    "        driver.execute_script(\"arguments[0].click();\", addNote)\n",
    "        print('Add a note button clicked')\n",
    "        time.sleep(2)\n",
    "\n",
    "        # Add a personalized message with the name\n",
    "        message_input = driver.find_element(By.XPATH, \"//textarea[@name='message']\")\n",
    "        message = f\"Hello {name}, Greetings from Raghav and Tapaswin sorry to interupt we are testing our Blox ConnectionBot\"\n",
    "        message_input.send_keys(message)\n",
    "        print(message)\n",
    "        time.sleep(2)\n",
    "        \n",
    "        #Perform additional actions (e.g., sending a connection request)\n",
    "        send = driver.find_element(By.XPATH, \"//button[@aria-label='Send now']\")\n",
    "        driver.execute_script(\"arguments[0].click();\", send)\n",
    "        print('Next click')\n",
    "        time.sleep(2)\n",
    "        \n",
    "        # close = driver.find_element(By.XPATH, \"//button[@aria-label='Dismiss']\")\n",
    "        # driver.execute_script(\"arguments[0].click();\", close)\n",
    "        # print('Next click')\n",
    "        time.sleep(2)\n",
    "    except Exception as e:\n",
    "        print(f\"Error clicking button: {str(e)}\")"
   ]
  }
 ],
 "metadata": {
  "kernelspec": {
   "display_name": "Python 3",
   "language": "python",
   "name": "python3"
  },
  "language_info": {
   "codemirror_mode": {
    "name": "ipython",
    "version": 3
   },
   "file_extension": ".py",
   "mimetype": "text/x-python",
   "name": "python",
   "nbconvert_exporter": "python",
   "pygments_lexer": "ipython3",
   "version": "3.8.10"
  },
  "orig_nbformat": 4
 },
 "nbformat": 4,
 "nbformat_minor": 2
}
