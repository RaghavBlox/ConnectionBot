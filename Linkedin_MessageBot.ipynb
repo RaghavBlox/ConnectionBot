{
 "cells": [
  {
   "cell_type": "markdown",
   "id": "fifth-touch",
   "metadata": {},
  },
  {
   "cell_type": "code",
   "execution_count": 1,
   "id": "vanilla-logging",
   "metadata": {},
   "outputs": [],
   "source": [
    "from selenium import webdriver\n",
    "from selenium.webdriver.common.keys import Keys\n",
    "from selenium.webdriver.chrome.service import Service\n",
    "from selenium.webdriver.common.by import By\n",
    "from selenium.webdriver.support.wait import WebDriverWait\n",
    "import time"
   ]
  },
  {
   "cell_type": "markdown",
   "id": "thorough-section",
   "metadata": {},
   "source": [
    "<b>Initiallize Webdriver and Open Linkedin with it</b>"
   ]
  },
  {
   "cell_type": "code",
   "execution_count": 2,
   "id": "single-battlefield",
   "metadata": {},
   "outputs": [],
   "source": [
    "options = webdriver.ChromeOptions()\n",
    "driver = webdriver.Chrome(options=options)\n",
    "driver.get('https://www.linkedin.com')\n",
    "time.sleep(2)"
   ]
  },
  {
   "cell_type": "markdown",
   "id": "rough-tactics",
   "metadata": {},
   "source": [
    "<b>Log Into Your Own Linkedin Account</b>\n",
    "<br>\n",
    "Please replace \"my_username\" and \"my_password\" with your own information"
   ]
  },
  {
   "cell_type": "code",
   "execution_count": 3,
   "id": "perfect-permit",
   "metadata": {},
   "outputs": [
    {
     "name": "stdout",
     "output_type": "stream",
     "text": [
      "logged in\n"
     ]
    }
   ],
   "source": [
    "username = driver.find_element(By.XPATH, \"//input[@name='session_key']\")\n",
    "password = driver.find_element(By.XPATH, \"//input[@name='session_password']\")\n",
    "\n",
    "\n",
    "username.send_keys('userName')\n",
    "password.send_keys('Password')\n",
    "time.sleep(2)\n",
    "\n",
    "submit = driver.find_element(By.XPATH, \"//button[@type='submit']\").click()\n",
    "print('logged in')"
   ]
  },
  {
   "cell_type": "markdown",
   "id": "23ede00a",
   "metadata": {},
   "source": [
    "<b>Send This will send only Request</b>"
   ]
  },
  {
   "cell_type": "code",
   "execution_count": 39,
   "id": "32a93ffa",
   "metadata": {},
   "outputs": [
    {
     "name": "stdout",
     "output_type": "stream",
     "text": [
      "Connect button clicked\n",
      "Next click\n",
      "Next click\n",
      "Connect button clicked\n",
      "Next click\n",
      "Next click\n"
     ]
    },
    {
     "ename": "KeyboardInterrupt",
     "evalue": "",
     "output_type": "error",
     "traceback": [
      "\u001b[0;31m---------------------------------------------------------------------------\u001b[0m",
      "\u001b[0;31mKeyboardInterrupt\u001b[0m                         Traceback (most recent call last)",
      "\u001b[0;32m/tmp/ipykernel_3476/3664772118.py\u001b[0m in \u001b[0;36m<module>\u001b[0;34m\u001b[0m\n\u001b[1;32m     24\u001b[0m         \u001b[0mdriver\u001b[0m\u001b[0;34m.\u001b[0m\u001b[0mexecute_script\u001b[0m\u001b[0;34m(\u001b[0m\u001b[0;34m\"arguments[0].click();\"\u001b[0m\u001b[0;34m,\u001b[0m \u001b[0mclose\u001b[0m\u001b[0;34m)\u001b[0m\u001b[0;34m\u001b[0m\u001b[0;34m\u001b[0m\u001b[0m\n\u001b[1;32m     25\u001b[0m         \u001b[0mprint\u001b[0m\u001b[0;34m(\u001b[0m\u001b[0;34m'Next click'\u001b[0m\u001b[0;34m)\u001b[0m\u001b[0;34m\u001b[0m\u001b[0;34m\u001b[0m\u001b[0m\n\u001b[0;32m---> 26\u001b[0;31m         \u001b[0mtime\u001b[0m\u001b[0;34m.\u001b[0m\u001b[0msleep\u001b[0m\u001b[0;34m(\u001b[0m\u001b[0;36m2\u001b[0m\u001b[0;34m)\u001b[0m\u001b[0;34m\u001b[0m\u001b[0;34m\u001b[0m\u001b[0m\n\u001b[0m\u001b[1;32m     27\u001b[0m     \u001b[0;32mexcept\u001b[0m \u001b[0mException\u001b[0m \u001b[0;32mas\u001b[0m \u001b[0me\u001b[0m\u001b[0;34m:\u001b[0m\u001b[0;34m\u001b[0m\u001b[0;34m\u001b[0m\u001b[0m\n\u001b[1;32m     28\u001b[0m         \u001b[0mprint\u001b[0m\u001b[0;34m(\u001b[0m\u001b[0;34mf\"Error clicking button: {str(e)}\"\u001b[0m\u001b[0;34m)\u001b[0m\u001b[0;34m\u001b[0m\u001b[0;34m\u001b[0m\u001b[0m\n",
      "\u001b[0;31mKeyboardInterrupt\u001b[0m: "
     ]
    }
   ],
   "source": [
    "# Navigate to the LinkedIn page\n",
    "from selenium.webdriver.support import expected_conditions as EC\n",
    "from selenium.webdriver.common.by import By\n",
    "\n",
    "# Navigate to the LinkedIn page\n",
    "driver.get(\"https://www.linkedin.com/search/results/people/?currentCompany=%5B%2278043528%22%5D&origin=FACETED_SEARCH&page=13\")\n",
    "\n",
    "wait = WebDriverWait(driver, 10)\n",
    "connect_buttons = wait.until(EC.presence_of_all_elements_located((By.XPATH, \"//button[contains(@class,'artdeco-button--secondary')]/span[text()='Connect']\")))\n",
    "\n",
    "for btn in connect_buttons:\n",
    "    try:\n",
    "        btn.click()\n",
    "        print('Connect button clicked')\n",
    "        time.sleep(2)\n",
    "        \n",
    "        # Perform additional actions (e.g., sending a connection request)\n",
    "        send = driver.find_element(By.XPATH, \"//button[@aria-label='Send now']\")\n",
    "        driver.execute_script(\"arguments[0].click();\", send)\n",
    "        print('Next click')\n",
    "        time.sleep(2)\n",
    "        \n",
    "        close = driver.find_element(By.XPATH, \"//button[@aria-label='Dismiss']\")\n",
    "        driver.execute_script(\"arguments[0].click();\", close)\n",
    "        print('Next click')\n",
    "        time.sleep(2)\n",
    "    except Exception as e:\n",
    "        print(f\"Error clicking button: {str(e)}\")"
   ]
  },
  {
   "cell_type": "markdown",
   "id": "6cc79954",
   "metadata": {},
   "source": [
    "<b>Send ConnectionRequest</b>\n",
    "1. Select all the \"Connection\" Buttons\n",
    "<br>\n",
    "1. Generate a custom message with a personal greeting & first name of contact\n",
    "<br>\n",
    "3. Send these messages to as many contacts as you'd like!"
   ]
  },
  {
   "cell_type": "code",
   "execution_count": 4,
   "id": "2aad617f",
   "metadata": {},
   "outputs": [
    {
     "name": "stdout",
     "output_type": "stream",
     "text": [
      "Connect button clicked\n",
      "aaron dsouza\n",
      "Add a note button clicked\n",
      "Hello aaron dsouza, Greetings from Raghav and Tapaswin sorry to interupt we are testing our Blox ConnectionBot\n",
      "Next click\n"
     ]
    },
    {
     "ename": "KeyboardInterrupt",
     "evalue": "",
     "output_type": "error",
     "traceback": [
      "\u001b[0;31m---------------------------------------------------------------------------\u001b[0m",
      "\u001b[0;31mKeyboardInterrupt\u001b[0m                         Traceback (most recent call last)",
      "\u001b[0;32m/tmp/ipykernel_10202/2377461223.py\u001b[0m in \u001b[0;36m<module>\u001b[0;34m\u001b[0m\n\u001b[1;32m     39\u001b[0m         \u001b[0mdriver\u001b[0m\u001b[0;34m.\u001b[0m\u001b[0mexecute_script\u001b[0m\u001b[0;34m(\u001b[0m\u001b[0;34m\"arguments[0].click();\"\u001b[0m\u001b[0;34m,\u001b[0m \u001b[0msend\u001b[0m\u001b[0;34m)\u001b[0m\u001b[0;34m\u001b[0m\u001b[0;34m\u001b[0m\u001b[0m\n\u001b[1;32m     40\u001b[0m         \u001b[0mprint\u001b[0m\u001b[0;34m(\u001b[0m\u001b[0;34m'Next click'\u001b[0m\u001b[0;34m)\u001b[0m\u001b[0;34m\u001b[0m\u001b[0;34m\u001b[0m\u001b[0m\n\u001b[0;32m---> 41\u001b[0;31m         \u001b[0mtime\u001b[0m\u001b[0;34m.\u001b[0m\u001b[0msleep\u001b[0m\u001b[0;34m(\u001b[0m\u001b[0;36m2\u001b[0m\u001b[0;34m)\u001b[0m\u001b[0;34m\u001b[0m\u001b[0;34m\u001b[0m\u001b[0m\n\u001b[0m\u001b[1;32m     42\u001b[0m \u001b[0;34m\u001b[0m\u001b[0m\n\u001b[1;32m     43\u001b[0m         \u001b[0;31m# close = driver.find_element(By.XPATH, \"//button[@aria-label='Dismiss']\")\u001b[0m\u001b[0;34m\u001b[0m\u001b[0;34m\u001b[0m\u001b[0;34m\u001b[0m\u001b[0m\n",
      "\u001b[0;31mKeyboardInterrupt\u001b[0m: "
     ]
    }
   ],
   "source": [
    "# Navigate to the LinkedIn page\n",
    "from selenium.webdriver.support import expected_conditions as EC\n",
    "from selenium.webdriver.common.by import By\n",
    "\n",
    "# Navigate to the LinkedIn page\n",
    "driver.get(\"https://www.linkedin.com/search/results/people/?currentCompany=%5B%2278043528%22%5D&origin=FACETED_SEARCH&page=2\")\n",
    "\n",
    "wait = WebDriverWait(driver, 10)\n",
    "connect_buttons = wait.until(EC.presence_of_all_elements_located((By.XPATH, \"//button[contains(@class,'artdeco-button--secondary')]/span[text()='Connect']\")))\n",
    "\n",
    "for btn in connect_buttons:\n",
    "    try:\n",
    "        btn.click()\n",
    "        print('Connect button clicked')\n",
    "        time.sleep(2)\n",
    "\n",
    "        # Locate the <strong> tag within the parent element\n",
    "        name_element = driver.find_element(By.XPATH, \"//strong\")\n",
    "        \n",
    "        # Extract the name from the <strong> tag\n",
    "        name = name_element.text if name_element.is_displayed() else \"LinkedIn User\"\n",
    "        print(name)\n",
    "\n",
    "        # Click \"Add a note\" button\n",
    "        addNote = driver.find_element(By.XPATH, \"//button[@aria-label='Add a note']\")\n",
    "        driver.execute_script(\"arguments[0].click();\", addNote)\n",
    "        print('Add a note button clicked')\n",
    "        time.sleep(2)\n",
    "\n",
    "        # Add a personalized message with the name\n",
    "        message_input = driver.find_element(By.XPATH, \"//textarea[@name='message']\")\n",
    "        message = f\"Hello {name}, Greetings from Raghav and Tapaswin sorry to interupt we are testing our Blox ConnectionBot\"\n",
    "        message_input.send_keys(message)\n",
    "        print(message)\n",
    "        time.sleep(2)\n",
    "        \n",
    "        #Perform additional actions (e.g., sending a connection request)\n",
    "        send = driver.find_element(By.XPATH, \"//button[@aria-label='Send now']\")\n",
    "        driver.execute_script(\"arguments[0].click();\", send)\n",
    "        print('Next click')\n",
    "        time.sleep(2)\n",
    "        \n",
    "        # close = driver.find_element(By.XPATH, \"//button[@aria-label='Dismiss']\")\n",
    "        # driver.execute_script(\"arguments[0].click();\", close)\n",
    "        # print('Next click')\n",
    "        time.sleep(2)\n",
    "    except Exception as e:\n",
    "        print(f\"Error clicking button: {str(e)}\")"
   ]
  },
  {
   "cell_type": "markdown",
   "id": "common-pension",
   "metadata": {},
   "source": [
    "<b>Send Messages</b>\n",
    "<br>\n",
    "1. Access multiple pages of contacts, choose how many with \"n_pages\"\n",
    "<br>\n",
    "2. Select all the \"Message\" Buttons\n",
    "<br>\n",
    "3. Generate a custom message with a personal greeting & first name of contact\n",
    "<br>\n",
    "4. Send these messages to as many contacts as you'd like!\n"
   ]
  },
  {
   "cell_type": "code",
   "execution_count": 19,
   "id": "surprised-protein",
   "metadata": {},
   "outputs": [
    {
     "ename": "IndexError",
     "evalue": "list index out of range",
     "output_type": "error",
     "traceback": [
      "\u001b[0;31m---------------------------------------------------------------------------\u001b[0m",
      "\u001b[0;31mIndexError\u001b[0m                                Traceback (most recent call last)",
      "\u001b[0;32m/tmp/ipykernel_26949/214374994.py\u001b[0m in \u001b[0;36m<module>\u001b[0;34m\u001b[0m\n\u001b[1;32m     13\u001b[0m     \u001b[0;32mfor\u001b[0m \u001b[0mi\u001b[0m \u001b[0;32min\u001b[0m \u001b[0mrange\u001b[0m\u001b[0;34m(\u001b[0m\u001b[0;36m6\u001b[0m\u001b[0;34m,\u001b[0m \u001b[0;36m7\u001b[0m\u001b[0;34m)\u001b[0m\u001b[0;34m:\u001b[0m\u001b[0;34m\u001b[0m\u001b[0;34m\u001b[0m\u001b[0m\n\u001b[1;32m     14\u001b[0m         \u001b[0;31m#click on \"Message\" button\u001b[0m\u001b[0;34m\u001b[0m\u001b[0;34m\u001b[0m\u001b[0;34m\u001b[0m\u001b[0m\n\u001b[0;32m---> 15\u001b[0;31m         \u001b[0mdriver\u001b[0m\u001b[0;34m.\u001b[0m\u001b[0mexecute_script\u001b[0m\u001b[0;34m(\u001b[0m\u001b[0;34m\"arguments[0].click();\"\u001b[0m\u001b[0;34m,\u001b[0m \u001b[0mmessage_buttons\u001b[0m\u001b[0;34m[\u001b[0m\u001b[0mi\u001b[0m\u001b[0;34m]\u001b[0m\u001b[0;34m)\u001b[0m\u001b[0;34m\u001b[0m\u001b[0;34m\u001b[0m\u001b[0m\n\u001b[0m\u001b[1;32m     16\u001b[0m         \u001b[0mtime\u001b[0m\u001b[0;34m.\u001b[0m\u001b[0msleep\u001b[0m\u001b[0;34m(\u001b[0m\u001b[0;36m2\u001b[0m\u001b[0;34m)\u001b[0m\u001b[0;34m\u001b[0m\u001b[0;34m\u001b[0m\u001b[0m\n\u001b[1;32m     17\u001b[0m \u001b[0;34m\u001b[0m\u001b[0m\n",
      "\u001b[0;31mIndexError\u001b[0m: list index out of range"
     ]
    }
   ],
   "source": [
    "import random\n",
    "\n",
    "n_pages = 3\n",
    "\n",
    "for n in range(1, n_pages + 1):\n",
    "\n",
    "    driver.get(\"https://www.linkedin.com/search/results/people/?network=%5B%22F%22%5D&origin=FACETED_SEARCH&page=\" + str(n))\n",
    "    time.sleep(2)\n",
    "\n",
    "    all_buttons = driver.find_elements(By.TAG_NAME, \"button\")\n",
    "    message_buttons = [btn for btn in all_buttons if btn.text == \"Message\"]\n",
    "\n",
    "    for i in range(6, 7):\n",
    "        #click on \"Message\" button\n",
    "        driver.execute_script(\"arguments[0].click();\", message_buttons[i])\n",
    "        time.sleep(2)\n",
    "\n",
    "        #activate main div\n",
    "        main_div = driver.find_element_by_xpath(\"//div[starts-with(@class, 'msg-form__msg-content-container')]\")\n",
    "        driver.execute_script(\"arguments[0].click();\", main_div)\n",
    "\n",
    "        #type message\n",
    "        paragraphs = driver.find_elements_by_tag_name(\"p\")\n",
    "        \n",
    "        all_span = driver.find_elements_by_tag_name(\"span\")\n",
    "        all_span = [s for s in all_span if s.get_attribute(\"aria-hidden\") == \"true\"]\n",
    "\n",
    "        idx = [*range(3,23,2)]\n",
    "        greetings = [\"Hello\", \"Hi\", \"Hey\", \"Ahoy\", \"Yo yo\", \"Sup\"]\n",
    "        all_names = []\n",
    "        \n",
    "        for j in idx:\n",
    "            name = all_span[j].text.split(\" \")[0]\n",
    "            all_names.append(name)\n",
    "             \n",
    "        greetings_idx = random.randint(0, len(greetings)-1)\n",
    "        message = greetings[greetings_idx] + \" \" + all_names[i] + \", Sorry, I didn't mean to bother you, I'm just building a Linkedin Web Scraper Bot and testing its' capabilities... My apologies!:) This is not Mariya, this message is automated\"\n",
    "        \n",
    "        paragraphs[-5].send_keys(message)\n",
    "        time.sleep(2)\n",
    "\n",
    "        #send message\n",
    "        submit = driver.find_element_by_xpath(\"//button[@type='submit']\").click()\n",
    "        time.sleep(2)\n",
    "\n",
    "        #close div\n",
    "        close_button = driver.find_element_by_xpath(\"//button[starts-with(@data-control-name, 'overlay.close_conversation_window')]\")\n",
    "        driver.execute_script(\"arguments[0].click();\", close_button)\n",
    "        time.sleep(2)"
   ]
  }
 ],
 "metadata": {
  "kernelspec": {
   "display_name": "Python 3",
   "language": "python",
   "name": "python3"
  },
  "language_info": {
   "codemirror_mode": {
    "name": "ipython",
    "version": 3
   },
   "file_extension": ".py",
   "mimetype": "text/x-python",
   "name": "python",
   "nbconvert_exporter": "python",
   "pygments_lexer": "ipython3",
   "version": "3.8.10"
  }
 },
 "nbformat": 4,
 "nbformat_minor": 5
}
